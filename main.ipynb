{
 "cells": [
  {
   "cell_type": "code",
   "execution_count": 43,
   "id": "812afdfc",
   "metadata": {},
   "outputs": [
    {
     "name": "stdout",
     "output_type": "stream",
     "text": [
      "<mysql.connector.connection_cext.CMySQLConnection object at 0x000001401B381690>\n"
     ]
    }
   ],
   "source": [
    "import mysql.connector \n",
    "\n",
    "mydb = mysql.connector.connect(\n",
    "    host=\"localhost\",\n",
    "    port=3307,\n",
    "    user=\"app_user\",\n",
    "    password=\"app_pass\",\n",
    "    database=\"store\"\n",
    ")\n",
    "\n",
    "print(mydb)"
   ]
  },
  {
   "cell_type": "code",
   "execution_count": 42,
   "id": "b70d9555",
   "metadata": {},
   "outputs": [
    {
     "name": "stdout",
     "output_type": "stream",
     "text": [
      "Connected to: None\n"
     ]
    }
   ],
   "source": [
    "cursor = mydb.cursor()\n",
    "cursor.execute(\"SELECT * FROM products;\")\n",
    "result = cursor.fetchone()\n",
    "\n",
    "print(\"Connected to:\", result)\n",
    "\n",
    "cursor.close()\n",
    "mydb.close()"
   ]
  },
  {
   "cell_type": "code",
   "execution_count": 44,
   "id": "ecbbfeca",
   "metadata": {},
   "outputs": [
    {
     "name": "stdout",
     "output_type": "stream",
     "text": [
      "Connected to: (101, 5, 2001, datetime.datetime(2025, 10, 27, 10, 30), 'card', Decimal('20.00'), Decimal('0.00'))\n"
     ]
    }
   ],
   "source": [
    "cursor = mydb.cursor()\n",
    "cursor.execute(\"SELECT * FROM transactions;\")\n",
    "result = cursor.fetchone()\n",
    "\n",
    "print(\"Connected to:\", result)\n",
    "\n",
    "cursor.close()\n",
    "mydb.close()"
   ]
  }
 ],
 "metadata": {
  "kernelspec": {
   "display_name": "Python 3",
   "language": "python",
   "name": "python3"
  },
  "language_info": {
   "codemirror_mode": {
    "name": "ipython",
    "version": 3
   },
   "file_extension": ".py",
   "mimetype": "text/x-python",
   "name": "python",
   "nbconvert_exporter": "python",
   "pygments_lexer": "ipython3",
   "version": "3.11.9"
  }
 },
 "nbformat": 4,
 "nbformat_minor": 5
}
